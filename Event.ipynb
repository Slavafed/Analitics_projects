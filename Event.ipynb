{
 "cells": [
  {
   "cell_type": "markdown",
   "id": "51e44137",
   "metadata": {},
   "source": [
    "# Дать ответ на 5 вопросов, объеденив данные в один файл."
   ]
  },
  {
   "cell_type": "code",
   "execution_count": 1,
   "id": "957277e8",
   "metadata": {},
   "outputs": [
    {
     "name": "stdout",
     "output_type": "stream",
     "text": [
      "[('event_name',), ('sqlite_sequence',), ('events',), ('sent_alarms',)]\n"
     ]
    }
   ],
   "source": [
    "# loading in modules\n",
    "import sqlite3\n",
    "import pandas as pd\n",
    "# creating file path\n",
    "dbfile = 'logs_20220912.db'\n",
    "dbfile2 = 'logs_20220913.db'\n",
    "dbfile3 = 'logs_20220914.db'\n",
    "# Create a SQL connection to our SQLite database\n",
    "con = sqlite3.connect(dbfile)\n",
    "con2 = sqlite3.connect(dbfile2)\n",
    "con3 = sqlite3.connect(dbfile3)\n",
    "# creating cursor\n",
    "cur = con.cursor()\n",
    "cur2 = con2.cursor()\n",
    "cur3 = con3.cursor()\n",
    "\n",
    "# reading all table names\n",
    "table_list = [a for a in cur.execute(\"SELECT name FROM sqlite_master WHERE type = 'table'\")]\n",
    "# here is you table list\n",
    "print(table_list)"
   ]
  },
  {
   "cell_type": "markdown",
   "id": "5d9352d0",
   "metadata": {},
   "source": [
    "### Извлекаем информацию из первого файла"
   ]
  },
  {
   "cell_type": "code",
   "execution_count": 2,
   "id": "b1caa368",
   "metadata": {},
   "outputs": [
    {
     "data": {
      "text/html": [
       "<div>\n",
       "<style scoped>\n",
       "    .dataframe tbody tr th:only-of-type {\n",
       "        vertical-align: middle;\n",
       "    }\n",
       "\n",
       "    .dataframe tbody tr th {\n",
       "        vertical-align: top;\n",
       "    }\n",
       "\n",
       "    .dataframe thead th {\n",
       "        text-align: right;\n",
       "    }\n",
       "</style>\n",
       "<table border=\"1\" class=\"dataframe\">\n",
       "  <thead>\n",
       "    <tr style=\"text-align: right;\">\n",
       "      <th></th>\n",
       "      <th>forecastMarker</th>\n",
       "      <th>request_time</th>\n",
       "      <th>event_id</th>\n",
       "      <th>sender</th>\n",
       "      <th>session_id</th>\n",
       "    </tr>\n",
       "    <tr>\n",
       "      <th>0</th>\n",
       "      <th></th>\n",
       "      <th></th>\n",
       "      <th></th>\n",
       "      <th></th>\n",
       "      <th></th>\n",
       "    </tr>\n",
       "  </thead>\n",
       "  <tbody>\n",
       "    <tr>\n",
       "      <th>1</th>\n",
       "      <td>SelfService/RUS/turnover</td>\n",
       "      <td>2022-09-12 11:30:11.106628</td>\n",
       "      <td>1</td>\n",
       "      <td>test_system</td>\n",
       "      <td>6f4277f6df57c4f4e90779966522c876</td>\n",
       "    </tr>\n",
       "    <tr>\n",
       "      <th>2</th>\n",
       "      <td>SelfService/RUS/turnover</td>\n",
       "      <td>2022-09-12 11:30:11.111359</td>\n",
       "      <td>29</td>\n",
       "      <td>test_system</td>\n",
       "      <td>6f4277f6df57c4f4e90779966522c876</td>\n",
       "    </tr>\n",
       "    <tr>\n",
       "      <th>3</th>\n",
       "      <td>SelfService/RUS/turnover</td>\n",
       "      <td>2022-09-12 11:30:11.115989</td>\n",
       "      <td>2</td>\n",
       "      <td>test_system</td>\n",
       "      <td>6f4277f6df57c4f4e90779966522c876</td>\n",
       "    </tr>\n",
       "    <tr>\n",
       "      <th>4</th>\n",
       "      <td>SelfService/RUS/turnover</td>\n",
       "      <td>2022-09-12 11:30:12.761754</td>\n",
       "      <td>3</td>\n",
       "      <td>test_system</td>\n",
       "      <td>6f4277f6df57c4f4e90779966522c876</td>\n",
       "    </tr>\n",
       "    <tr>\n",
       "      <th>5</th>\n",
       "      <td>SelfService/RUS/turnover</td>\n",
       "      <td>2022-09-12 11:30:12.770134</td>\n",
       "      <td>5</td>\n",
       "      <td>test_system</td>\n",
       "      <td>6f4277f6df57c4f4e90779966522c876</td>\n",
       "    </tr>\n",
       "    <tr>\n",
       "      <th>6</th>\n",
       "      <td>SelfService/RUS/turnover</td>\n",
       "      <td>2022-09-12 11:30:12.780523</td>\n",
       "      <td>6</td>\n",
       "      <td>test_system</td>\n",
       "      <td>6f4277f6df57c4f4e90779966522c876</td>\n",
       "    </tr>\n",
       "  </tbody>\n",
       "</table>\n",
       "</div>"
      ],
      "text/plain": [
       "             forecastMarker                request_time  event_id  \\\n",
       "0                                                                   \n",
       "1  SelfService/RUS/turnover  2022-09-12 11:30:11.106628         1   \n",
       "2  SelfService/RUS/turnover  2022-09-12 11:30:11.111359        29   \n",
       "3  SelfService/RUS/turnover  2022-09-12 11:30:11.115989         2   \n",
       "4  SelfService/RUS/turnover  2022-09-12 11:30:12.761754         3   \n",
       "5  SelfService/RUS/turnover  2022-09-12 11:30:12.770134         5   \n",
       "6  SelfService/RUS/turnover  2022-09-12 11:30:12.780523         6   \n",
       "\n",
       "        sender                        session_id  \n",
       "0                                                 \n",
       "1  test_system  6f4277f6df57c4f4e90779966522c876  \n",
       "2  test_system  6f4277f6df57c4f4e90779966522c876  \n",
       "3  test_system  6f4277f6df57c4f4e90779966522c876  \n",
       "4  test_system  6f4277f6df57c4f4e90779966522c876  \n",
       "5  test_system  6f4277f6df57c4f4e90779966522c876  \n",
       "6  test_system  6f4277f6df57c4f4e90779966522c876  "
      ]
     },
     "execution_count": 2,
     "metadata": {},
     "output_type": "execute_result"
    }
   ],
   "source": [
    "con = sqlite3.connect('logs_20220912.db')\n",
    "cur = con.cursor()\n",
    "events = []\n",
    "for row in cur.execute(\"SELECT * FROM 'events'\"):\n",
    "      events.append(row)       \n",
    "        \n",
    "events = pd.DataFrame(events) \n",
    "events = events.set_index(0)\n",
    "events.columns = ['forecastMarker','request_time','event_id','sender','context','session_id']\n",
    "eve = events.drop(['context',], axis = 1)\n",
    "eve.head(6)"
   ]
  },
  {
   "cell_type": "markdown",
   "id": "64c7b3f4",
   "metadata": {},
   "source": [
    "### Извлекаем информацию из второго файла"
   ]
  },
  {
   "cell_type": "code",
   "execution_count": 3,
   "id": "5e0fb544",
   "metadata": {},
   "outputs": [
    {
     "data": {
      "text/html": [
       "<div>\n",
       "<style scoped>\n",
       "    .dataframe tbody tr th:only-of-type {\n",
       "        vertical-align: middle;\n",
       "    }\n",
       "\n",
       "    .dataframe tbody tr th {\n",
       "        vertical-align: top;\n",
       "    }\n",
       "\n",
       "    .dataframe thead th {\n",
       "        text-align: right;\n",
       "    }\n",
       "</style>\n",
       "<table border=\"1\" class=\"dataframe\">\n",
       "  <thead>\n",
       "    <tr style=\"text-align: right;\">\n",
       "      <th></th>\n",
       "      <th>forecastMarker</th>\n",
       "      <th>request_time</th>\n",
       "      <th>event_id</th>\n",
       "      <th>sender</th>\n",
       "      <th>session_id</th>\n",
       "    </tr>\n",
       "    <tr>\n",
       "      <th>0</th>\n",
       "      <th></th>\n",
       "      <th></th>\n",
       "      <th></th>\n",
       "      <th></th>\n",
       "      <th></th>\n",
       "    </tr>\n",
       "  </thead>\n",
       "  <tbody>\n",
       "    <tr>\n",
       "      <th>1</th>\n",
       "      <td>None</td>\n",
       "      <td>2022-09-13 00:10:27.967745</td>\n",
       "      <td>1</td>\n",
       "      <td>None</td>\n",
       "      <td>fa89a4d46b9b34761a580f0152f94f05</td>\n",
       "    </tr>\n",
       "    <tr>\n",
       "      <th>2</th>\n",
       "      <td>None</td>\n",
       "      <td>2022-09-13 00:10:27.972425</td>\n",
       "      <td>29</td>\n",
       "      <td>None</td>\n",
       "      <td>fa89a4d46b9b34761a580f0152f94f05</td>\n",
       "    </tr>\n",
       "    <tr>\n",
       "      <th>3</th>\n",
       "      <td>None</td>\n",
       "      <td>2022-09-13 00:10:27.977883</td>\n",
       "      <td>5</td>\n",
       "      <td>None</td>\n",
       "      <td>fa89a4d46b9b34761a580f0152f94f05</td>\n",
       "    </tr>\n",
       "    <tr>\n",
       "      <th>4</th>\n",
       "      <td>None</td>\n",
       "      <td>2022-09-13 00:10:27.982433</td>\n",
       "      <td>8</td>\n",
       "      <td>None</td>\n",
       "      <td>fa89a4d46b9b34761a580f0152f94f05</td>\n",
       "    </tr>\n",
       "    <tr>\n",
       "      <th>5</th>\n",
       "      <td>None</td>\n",
       "      <td>2022-09-13 00:10:27.989409</td>\n",
       "      <td>9</td>\n",
       "      <td>None</td>\n",
       "      <td>fa89a4d46b9b34761a580f0152f94f05</td>\n",
       "    </tr>\n",
       "    <tr>\n",
       "      <th>6</th>\n",
       "      <td>None</td>\n",
       "      <td>2022-09-13 00:10:27.993587</td>\n",
       "      <td>10</td>\n",
       "      <td>None</td>\n",
       "      <td>fa89a4d46b9b34761a580f0152f94f05</td>\n",
       "    </tr>\n",
       "  </tbody>\n",
       "</table>\n",
       "</div>"
      ],
      "text/plain": [
       "  forecastMarker                request_time  event_id sender  \\\n",
       "0                                                               \n",
       "1           None  2022-09-13 00:10:27.967745         1   None   \n",
       "2           None  2022-09-13 00:10:27.972425        29   None   \n",
       "3           None  2022-09-13 00:10:27.977883         5   None   \n",
       "4           None  2022-09-13 00:10:27.982433         8   None   \n",
       "5           None  2022-09-13 00:10:27.989409         9   None   \n",
       "6           None  2022-09-13 00:10:27.993587        10   None   \n",
       "\n",
       "                         session_id  \n",
       "0                                    \n",
       "1  fa89a4d46b9b34761a580f0152f94f05  \n",
       "2  fa89a4d46b9b34761a580f0152f94f05  \n",
       "3  fa89a4d46b9b34761a580f0152f94f05  \n",
       "4  fa89a4d46b9b34761a580f0152f94f05  \n",
       "5  fa89a4d46b9b34761a580f0152f94f05  \n",
       "6  fa89a4d46b9b34761a580f0152f94f05  "
      ]
     },
     "execution_count": 3,
     "metadata": {},
     "output_type": "execute_result"
    }
   ],
   "source": [
    "\n",
    "con2 = sqlite3.connect('logs_20220913.db')\n",
    "cur2 = con2.cursor()\n",
    "events2 = []\n",
    "for row in cur2.execute(\"SELECT * FROM 'events'\"):\n",
    "      events2.append(row)       \n",
    "        \n",
    "events2 = pd.DataFrame(events2) \n",
    "events2 = events2.set_index(0)\n",
    "events2.columns = ['forecastMarker','request_time','event_id','sender','context','session_id']\n",
    "eve2 = events2.drop(['context',], axis = 1)\n",
    "eve2.head(6)"
   ]
  },
  {
   "cell_type": "markdown",
   "id": "f144bf12",
   "metadata": {},
   "source": [
    "### Извлекаем информацию из третьего файла"
   ]
  },
  {
   "cell_type": "code",
   "execution_count": 4,
   "id": "5ab55cbe",
   "metadata": {
    "scrolled": true
   },
   "outputs": [
    {
     "data": {
      "text/html": [
       "<div>\n",
       "<style scoped>\n",
       "    .dataframe tbody tr th:only-of-type {\n",
       "        vertical-align: middle;\n",
       "    }\n",
       "\n",
       "    .dataframe tbody tr th {\n",
       "        vertical-align: top;\n",
       "    }\n",
       "\n",
       "    .dataframe thead th {\n",
       "        text-align: right;\n",
       "    }\n",
       "</style>\n",
       "<table border=\"1\" class=\"dataframe\">\n",
       "  <thead>\n",
       "    <tr style=\"text-align: right;\">\n",
       "      <th></th>\n",
       "      <th>forecastMarker</th>\n",
       "      <th>request_time</th>\n",
       "      <th>event_id</th>\n",
       "      <th>sender</th>\n",
       "      <th>session_id</th>\n",
       "    </tr>\n",
       "    <tr>\n",
       "      <th>0</th>\n",
       "      <th></th>\n",
       "      <th></th>\n",
       "      <th></th>\n",
       "      <th></th>\n",
       "      <th></th>\n",
       "    </tr>\n",
       "  </thead>\n",
       "  <tbody>\n",
       "    <tr>\n",
       "      <th>1</th>\n",
       "      <td>None</td>\n",
       "      <td>2022-09-14 00:09:39.234361</td>\n",
       "      <td>1</td>\n",
       "      <td>None</td>\n",
       "      <td>ec6a82e4a1b9b4dc467639eb1a5d6987</td>\n",
       "    </tr>\n",
       "    <tr>\n",
       "      <th>2</th>\n",
       "      <td>None</td>\n",
       "      <td>2022-09-14 00:09:39.238851</td>\n",
       "      <td>29</td>\n",
       "      <td>None</td>\n",
       "      <td>ec6a82e4a1b9b4dc467639eb1a5d6987</td>\n",
       "    </tr>\n",
       "    <tr>\n",
       "      <th>3</th>\n",
       "      <td>None</td>\n",
       "      <td>2022-09-14 00:09:39.242626</td>\n",
       "      <td>5</td>\n",
       "      <td>None</td>\n",
       "      <td>ec6a82e4a1b9b4dc467639eb1a5d6987</td>\n",
       "    </tr>\n",
       "    <tr>\n",
       "      <th>4</th>\n",
       "      <td>None</td>\n",
       "      <td>2022-09-14 00:09:39.248606</td>\n",
       "      <td>8</td>\n",
       "      <td>None</td>\n",
       "      <td>ec6a82e4a1b9b4dc467639eb1a5d6987</td>\n",
       "    </tr>\n",
       "    <tr>\n",
       "      <th>5</th>\n",
       "      <td>None</td>\n",
       "      <td>2022-09-14 00:09:39.254990</td>\n",
       "      <td>9</td>\n",
       "      <td>None</td>\n",
       "      <td>ec6a82e4a1b9b4dc467639eb1a5d6987</td>\n",
       "    </tr>\n",
       "    <tr>\n",
       "      <th>6</th>\n",
       "      <td>None</td>\n",
       "      <td>2022-09-14 00:09:39.258657</td>\n",
       "      <td>10</td>\n",
       "      <td>None</td>\n",
       "      <td>ec6a82e4a1b9b4dc467639eb1a5d6987</td>\n",
       "    </tr>\n",
       "  </tbody>\n",
       "</table>\n",
       "</div>"
      ],
      "text/plain": [
       "  forecastMarker                request_time  event_id sender  \\\n",
       "0                                                               \n",
       "1           None  2022-09-14 00:09:39.234361         1   None   \n",
       "2           None  2022-09-14 00:09:39.238851        29   None   \n",
       "3           None  2022-09-14 00:09:39.242626         5   None   \n",
       "4           None  2022-09-14 00:09:39.248606         8   None   \n",
       "5           None  2022-09-14 00:09:39.254990         9   None   \n",
       "6           None  2022-09-14 00:09:39.258657        10   None   \n",
       "\n",
       "                         session_id  \n",
       "0                                    \n",
       "1  ec6a82e4a1b9b4dc467639eb1a5d6987  \n",
       "2  ec6a82e4a1b9b4dc467639eb1a5d6987  \n",
       "3  ec6a82e4a1b9b4dc467639eb1a5d6987  \n",
       "4  ec6a82e4a1b9b4dc467639eb1a5d6987  \n",
       "5  ec6a82e4a1b9b4dc467639eb1a5d6987  \n",
       "6  ec6a82e4a1b9b4dc467639eb1a5d6987  "
      ]
     },
     "execution_count": 4,
     "metadata": {},
     "output_type": "execute_result"
    }
   ],
   "source": [
    "\n",
    "con3 = sqlite3.connect('logs_20220914.db')\n",
    "cur3 = con3.cursor()\n",
    "events3 = []\n",
    "for row in cur3.execute(\"SELECT * FROM 'events'\"):\n",
    "      events3.append(row)       \n",
    "        \n",
    "events3 = pd.DataFrame(events3) \n",
    "events3 = events3.set_index(0)\n",
    "events3.columns = ['forecastMarker','request_time','event_id','sender','context','session_id']\n",
    "eve3 = events3.drop(['context',], axis = 1)\n",
    "eve3.head(6)"
   ]
  },
  {
   "cell_type": "markdown",
   "id": "eb6d3c0f",
   "metadata": {},
   "source": [
    "### Извлекаем информацию event_name"
   ]
  },
  {
   "cell_type": "code",
   "execution_count": 5,
   "id": "4d16540b",
   "metadata": {},
   "outputs": [
    {
     "data": {
      "text/html": [
       "<div>\n",
       "<style scoped>\n",
       "    .dataframe tbody tr th:only-of-type {\n",
       "        vertical-align: middle;\n",
       "    }\n",
       "\n",
       "    .dataframe tbody tr th {\n",
       "        vertical-align: top;\n",
       "    }\n",
       "\n",
       "    .dataframe thead th {\n",
       "        text-align: right;\n",
       "    }\n",
       "</style>\n",
       "<table border=\"1\" class=\"dataframe\">\n",
       "  <thead>\n",
       "    <tr style=\"text-align: right;\">\n",
       "      <th></th>\n",
       "      <th>event_name</th>\n",
       "    </tr>\n",
       "    <tr>\n",
       "      <th>0</th>\n",
       "      <th></th>\n",
       "    </tr>\n",
       "  </thead>\n",
       "  <tbody>\n",
       "    <tr>\n",
       "      <th>1</th>\n",
       "      <td>Инициализируем свойства класса</td>\n",
       "    </tr>\n",
       "    <tr>\n",
       "      <th>2</th>\n",
       "      <td>Переход в функцию getParametrsAndRegressors</td>\n",
       "    </tr>\n",
       "    <tr>\n",
       "      <th>3</th>\n",
       "      <td>Выход из функции getParametrsAndRegressors с п...</td>\n",
       "    </tr>\n",
       "    <tr>\n",
       "      <th>4</th>\n",
       "      <td>Выход из функции getParametrsAndRegressors БЕЗ...</td>\n",
       "    </tr>\n",
       "    <tr>\n",
       "      <th>5</th>\n",
       "      <td>Записали в свойства класса гиперпараметры и ре...</td>\n",
       "    </tr>\n",
       "    <tr>\n",
       "      <th>6</th>\n",
       "      <td>Начинаем читать данные из BQ по полученному SQ...</td>\n",
       "    </tr>\n",
       "  </tbody>\n",
       "</table>\n",
       "</div>"
      ],
      "text/plain": [
       "                                          event_name\n",
       "0                                                   \n",
       "1                     Инициализируем свойства класса\n",
       "2        Переход в функцию getParametrsAndRegressors\n",
       "3  Выход из функции getParametrsAndRegressors с п...\n",
       "4  Выход из функции getParametrsAndRegressors БЕЗ...\n",
       "5  Записали в свойства класса гиперпараметры и ре...\n",
       "6  Начинаем читать данные из BQ по полученному SQ..."
      ]
     },
     "execution_count": 5,
     "metadata": {},
     "output_type": "execute_result"
    }
   ],
   "source": [
    "event =[]\n",
    "for row in cur.execute(\"SELECT * FROM 'event_name'\"):\n",
    "      event.append(row)   \n",
    "event = pd.DataFrame(event) \n",
    "event = event.set_index(0)      \n",
    "event.columns = ['event_name']\n",
    "event.head(6)"
   ]
  },
  {
   "cell_type": "markdown",
   "id": "3b8eb018",
   "metadata": {},
   "source": [
    "### Объединяем все файлы данных (кроме event_name)  в одну таблицу"
   ]
  },
  {
   "cell_type": "code",
   "execution_count": 6,
   "id": "6cad52e5",
   "metadata": {},
   "outputs": [
    {
     "data": {
      "text/html": [
       "<div>\n",
       "<style scoped>\n",
       "    .dataframe tbody tr th:only-of-type {\n",
       "        vertical-align: middle;\n",
       "    }\n",
       "\n",
       "    .dataframe tbody tr th {\n",
       "        vertical-align: top;\n",
       "    }\n",
       "\n",
       "    .dataframe thead th {\n",
       "        text-align: right;\n",
       "    }\n",
       "</style>\n",
       "<table border=\"1\" class=\"dataframe\">\n",
       "  <thead>\n",
       "    <tr style=\"text-align: right;\">\n",
       "      <th></th>\n",
       "      <th>forecastMarker</th>\n",
       "      <th>request_time</th>\n",
       "      <th>event_id</th>\n",
       "      <th>sender</th>\n",
       "      <th>session_id</th>\n",
       "    </tr>\n",
       "  </thead>\n",
       "  <tbody>\n",
       "    <tr>\n",
       "      <th>0</th>\n",
       "      <td>SelfService/RUS/turnover</td>\n",
       "      <td>2022-09-12 11:30:11.106628</td>\n",
       "      <td>1</td>\n",
       "      <td>test_system</td>\n",
       "      <td>6f4277f6df57c4f4e90779966522c876</td>\n",
       "    </tr>\n",
       "    <tr>\n",
       "      <th>1</th>\n",
       "      <td>SelfService/RUS/turnover</td>\n",
       "      <td>2022-09-12 11:30:11.111359</td>\n",
       "      <td>29</td>\n",
       "      <td>test_system</td>\n",
       "      <td>6f4277f6df57c4f4e90779966522c876</td>\n",
       "    </tr>\n",
       "    <tr>\n",
       "      <th>2</th>\n",
       "      <td>SelfService/RUS/turnover</td>\n",
       "      <td>2022-09-12 11:30:11.115989</td>\n",
       "      <td>2</td>\n",
       "      <td>test_system</td>\n",
       "      <td>6f4277f6df57c4f4e90779966522c876</td>\n",
       "    </tr>\n",
       "    <tr>\n",
       "      <th>3</th>\n",
       "      <td>SelfService/RUS/turnover</td>\n",
       "      <td>2022-09-12 11:30:12.761754</td>\n",
       "      <td>3</td>\n",
       "      <td>test_system</td>\n",
       "      <td>6f4277f6df57c4f4e90779966522c876</td>\n",
       "    </tr>\n",
       "    <tr>\n",
       "      <th>4</th>\n",
       "      <td>SelfService/RUS/turnover</td>\n",
       "      <td>2022-09-12 11:30:12.770134</td>\n",
       "      <td>5</td>\n",
       "      <td>test_system</td>\n",
       "      <td>6f4277f6df57c4f4e90779966522c876</td>\n",
       "    </tr>\n",
       "    <tr>\n",
       "      <th>5</th>\n",
       "      <td>SelfService/RUS/turnover</td>\n",
       "      <td>2022-09-12 11:30:12.780523</td>\n",
       "      <td>6</td>\n",
       "      <td>test_system</td>\n",
       "      <td>6f4277f6df57c4f4e90779966522c876</td>\n",
       "    </tr>\n",
       "  </tbody>\n",
       "</table>\n",
       "</div>"
      ],
      "text/plain": [
       "             forecastMarker                request_time  event_id  \\\n",
       "0  SelfService/RUS/turnover  2022-09-12 11:30:11.106628         1   \n",
       "1  SelfService/RUS/turnover  2022-09-12 11:30:11.111359        29   \n",
       "2  SelfService/RUS/turnover  2022-09-12 11:30:11.115989         2   \n",
       "3  SelfService/RUS/turnover  2022-09-12 11:30:12.761754         3   \n",
       "4  SelfService/RUS/turnover  2022-09-12 11:30:12.770134         5   \n",
       "5  SelfService/RUS/turnover  2022-09-12 11:30:12.780523         6   \n",
       "\n",
       "        sender                        session_id  \n",
       "0  test_system  6f4277f6df57c4f4e90779966522c876  \n",
       "1  test_system  6f4277f6df57c4f4e90779966522c876  \n",
       "2  test_system  6f4277f6df57c4f4e90779966522c876  \n",
       "3  test_system  6f4277f6df57c4f4e90779966522c876  \n",
       "4  test_system  6f4277f6df57c4f4e90779966522c876  \n",
       "5  test_system  6f4277f6df57c4f4e90779966522c876  "
      ]
     },
     "execution_count": 6,
     "metadata": {},
     "output_type": "execute_result"
    }
   ],
   "source": [
    "full = pd.concat([eve, eve2, eve3], ignore_index=True, sort=False)\n",
    "full.head(6)"
   ]
  },
  {
   "cell_type": "code",
   "execution_count": 7,
   "id": "12464e9c",
   "metadata": {},
   "outputs": [
    {
     "data": {
      "text/plain": [
       "44731"
      ]
     },
     "execution_count": 7,
     "metadata": {},
     "output_type": "execute_result"
    }
   ],
   "source": [
    "summ = len(eve.index)+len(eve2.index)+len(eve3.index)\n",
    "summ #Проверка на соединение данных(Проверял кол-во строк в ручную)"
   ]
  },
  {
   "cell_type": "markdown",
   "id": "0fa702ac",
   "metadata": {},
   "source": [
    "###  Дадим ответ на первый вопрос. \n",
    "#### Между какими событиями наибольший шаг, указать пару идентификаторов этих событий"
   ]
  },
  {
   "cell_type": "markdown",
   "id": "7ec517b7",
   "metadata": {},
   "source": [
    "##  Cортируем по сессии и времени события"
   ]
  },
  {
   "cell_type": "code",
   "execution_count": 8,
   "id": "3b7ab0de",
   "metadata": {},
   "outputs": [
    {
     "data": {
      "text/html": [
       "<div>\n",
       "<style scoped>\n",
       "    .dataframe tbody tr th:only-of-type {\n",
       "        vertical-align: middle;\n",
       "    }\n",
       "\n",
       "    .dataframe tbody tr th {\n",
       "        vertical-align: top;\n",
       "    }\n",
       "\n",
       "    .dataframe thead th {\n",
       "        text-align: right;\n",
       "    }\n",
       "</style>\n",
       "<table border=\"1\" class=\"dataframe\">\n",
       "  <thead>\n",
       "    <tr style=\"text-align: right;\">\n",
       "      <th></th>\n",
       "      <th>forecastMarker</th>\n",
       "      <th>request_time</th>\n",
       "      <th>event_id</th>\n",
       "      <th>sender</th>\n",
       "      <th>session_id</th>\n",
       "    </tr>\n",
       "  </thead>\n",
       "  <tbody>\n",
       "    <tr>\n",
       "      <th>1722</th>\n",
       "      <td>weekly_report.SAAS:new_visitors:utm_medium:pre...</td>\n",
       "      <td>2022-09-12 17:11:29.821083</td>\n",
       "      <td>1</td>\n",
       "      <td>weekly_report.saas</td>\n",
       "      <td>0035de8fad557cfe0b187f24b954195f</td>\n",
       "    </tr>\n",
       "    <tr>\n",
       "      <th>1723</th>\n",
       "      <td>weekly_report.SAAS:new_visitors:utm_medium:pre...</td>\n",
       "      <td>2022-09-12 17:11:29.831013</td>\n",
       "      <td>29</td>\n",
       "      <td>weekly_report.saas</td>\n",
       "      <td>0035de8fad557cfe0b187f24b954195f</td>\n",
       "    </tr>\n",
       "    <tr>\n",
       "      <th>1724</th>\n",
       "      <td>weekly_report.SAAS:new_visitors:utm_medium:pre...</td>\n",
       "      <td>2022-09-12 17:11:29.836547</td>\n",
       "      <td>2</td>\n",
       "      <td>weekly_report.saas</td>\n",
       "      <td>0035de8fad557cfe0b187f24b954195f</td>\n",
       "    </tr>\n",
       "    <tr>\n",
       "      <th>1725</th>\n",
       "      <td>weekly_report.SAAS:new_visitors:utm_medium:pre...</td>\n",
       "      <td>2022-09-12 17:11:31.576231</td>\n",
       "      <td>3</td>\n",
       "      <td>weekly_report.saas</td>\n",
       "      <td>0035de8fad557cfe0b187f24b954195f</td>\n",
       "    </tr>\n",
       "    <tr>\n",
       "      <th>1726</th>\n",
       "      <td>weekly_report.SAAS:new_visitors:utm_medium:pre...</td>\n",
       "      <td>2022-09-12 17:11:31.587533</td>\n",
       "      <td>5</td>\n",
       "      <td>weekly_report.saas</td>\n",
       "      <td>0035de8fad557cfe0b187f24b954195f</td>\n",
       "    </tr>\n",
       "  </tbody>\n",
       "</table>\n",
       "</div>"
      ],
      "text/plain": [
       "                                         forecastMarker  \\\n",
       "1722  weekly_report.SAAS:new_visitors:utm_medium:pre...   \n",
       "1723  weekly_report.SAAS:new_visitors:utm_medium:pre...   \n",
       "1724  weekly_report.SAAS:new_visitors:utm_medium:pre...   \n",
       "1725  weekly_report.SAAS:new_visitors:utm_medium:pre...   \n",
       "1726  weekly_report.SAAS:new_visitors:utm_medium:pre...   \n",
       "\n",
       "                    request_time  event_id              sender  \\\n",
       "1722  2022-09-12 17:11:29.821083         1  weekly_report.saas   \n",
       "1723  2022-09-12 17:11:29.831013        29  weekly_report.saas   \n",
       "1724  2022-09-12 17:11:29.836547         2  weekly_report.saas   \n",
       "1725  2022-09-12 17:11:31.576231         3  weekly_report.saas   \n",
       "1726  2022-09-12 17:11:31.587533         5  weekly_report.saas   \n",
       "\n",
       "                            session_id  \n",
       "1722  0035de8fad557cfe0b187f24b954195f  \n",
       "1723  0035de8fad557cfe0b187f24b954195f  \n",
       "1724  0035de8fad557cfe0b187f24b954195f  \n",
       "1725  0035de8fad557cfe0b187f24b954195f  \n",
       "1726  0035de8fad557cfe0b187f24b954195f  "
      ]
     },
     "execution_count": 8,
     "metadata": {},
     "output_type": "execute_result"
    }
   ],
   "source": [
    "A1 = full.sort_values(by=['session_id','request_time'])\n",
    "A1.head()"
   ]
  },
  {
   "cell_type": "code",
   "execution_count": 9,
   "id": "6c899b87",
   "metadata": {},
   "outputs": [
    {
     "name": "stdout",
     "output_type": "stream",
     "text": [
      "Формат изменен!\n"
     ]
    }
   ],
   "source": [
    "A1['request_time'] = A1['request_time'].astype(\"datetime64[ns]\")\n",
    "print('Формат изменен!')"
   ]
  },
  {
   "cell_type": "code",
   "execution_count": 10,
   "id": "a889ac57",
   "metadata": {},
   "outputs": [
    {
     "data": {
      "text/html": [
       "<div>\n",
       "<style scoped>\n",
       "    .dataframe tbody tr th:only-of-type {\n",
       "        vertical-align: middle;\n",
       "    }\n",
       "\n",
       "    .dataframe tbody tr th {\n",
       "        vertical-align: top;\n",
       "    }\n",
       "\n",
       "    .dataframe thead th {\n",
       "        text-align: right;\n",
       "    }\n",
       "</style>\n",
       "<table border=\"1\" class=\"dataframe\">\n",
       "  <thead>\n",
       "    <tr style=\"text-align: right;\">\n",
       "      <th></th>\n",
       "      <th>forecastMarker</th>\n",
       "      <th>request_time</th>\n",
       "      <th>event_id</th>\n",
       "      <th>sender</th>\n",
       "      <th>session_id</th>\n",
       "    </tr>\n",
       "  </thead>\n",
       "  <tbody>\n",
       "    <tr>\n",
       "      <th>0</th>\n",
       "      <td>weekly_report.SAAS:new_visitors:utm_medium:pre...</td>\n",
       "      <td>2022-09-12 17:11:29.821083</td>\n",
       "      <td>1</td>\n",
       "      <td>weekly_report.saas</td>\n",
       "      <td>0035de8fad557cfe0b187f24b954195f</td>\n",
       "    </tr>\n",
       "    <tr>\n",
       "      <th>1</th>\n",
       "      <td>weekly_report.SAAS:new_visitors:utm_medium:pre...</td>\n",
       "      <td>2022-09-12 17:11:29.831013</td>\n",
       "      <td>29</td>\n",
       "      <td>weekly_report.saas</td>\n",
       "      <td>0035de8fad557cfe0b187f24b954195f</td>\n",
       "    </tr>\n",
       "    <tr>\n",
       "      <th>2</th>\n",
       "      <td>weekly_report.SAAS:new_visitors:utm_medium:pre...</td>\n",
       "      <td>2022-09-12 17:11:29.836547</td>\n",
       "      <td>2</td>\n",
       "      <td>weekly_report.saas</td>\n",
       "      <td>0035de8fad557cfe0b187f24b954195f</td>\n",
       "    </tr>\n",
       "    <tr>\n",
       "      <th>3</th>\n",
       "      <td>weekly_report.SAAS:new_visitors:utm_medium:pre...</td>\n",
       "      <td>2022-09-12 17:11:31.576231</td>\n",
       "      <td>3</td>\n",
       "      <td>weekly_report.saas</td>\n",
       "      <td>0035de8fad557cfe0b187f24b954195f</td>\n",
       "    </tr>\n",
       "    <tr>\n",
       "      <th>4</th>\n",
       "      <td>weekly_report.SAAS:new_visitors:utm_medium:pre...</td>\n",
       "      <td>2022-09-12 17:11:31.587533</td>\n",
       "      <td>5</td>\n",
       "      <td>weekly_report.saas</td>\n",
       "      <td>0035de8fad557cfe0b187f24b954195f</td>\n",
       "    </tr>\n",
       "    <tr>\n",
       "      <th>5</th>\n",
       "      <td>weekly_report.SAAS:new_visitors:utm_medium:pre...</td>\n",
       "      <td>2022-09-12 17:11:31.594359</td>\n",
       "      <td>6</td>\n",
       "      <td>weekly_report.saas</td>\n",
       "      <td>0035de8fad557cfe0b187f24b954195f</td>\n",
       "    </tr>\n",
       "  </tbody>\n",
       "</table>\n",
       "</div>"
      ],
      "text/plain": [
       "                                      forecastMarker  \\\n",
       "0  weekly_report.SAAS:new_visitors:utm_medium:pre...   \n",
       "1  weekly_report.SAAS:new_visitors:utm_medium:pre...   \n",
       "2  weekly_report.SAAS:new_visitors:utm_medium:pre...   \n",
       "3  weekly_report.SAAS:new_visitors:utm_medium:pre...   \n",
       "4  weekly_report.SAAS:new_visitors:utm_medium:pre...   \n",
       "5  weekly_report.SAAS:new_visitors:utm_medium:pre...   \n",
       "\n",
       "                request_time  event_id              sender  \\\n",
       "0 2022-09-12 17:11:29.821083         1  weekly_report.saas   \n",
       "1 2022-09-12 17:11:29.831013        29  weekly_report.saas   \n",
       "2 2022-09-12 17:11:29.836547         2  weekly_report.saas   \n",
       "3 2022-09-12 17:11:31.576231         3  weekly_report.saas   \n",
       "4 2022-09-12 17:11:31.587533         5  weekly_report.saas   \n",
       "5 2022-09-12 17:11:31.594359         6  weekly_report.saas   \n",
       "\n",
       "                         session_id  \n",
       "0  0035de8fad557cfe0b187f24b954195f  \n",
       "1  0035de8fad557cfe0b187f24b954195f  \n",
       "2  0035de8fad557cfe0b187f24b954195f  \n",
       "3  0035de8fad557cfe0b187f24b954195f  \n",
       "4  0035de8fad557cfe0b187f24b954195f  \n",
       "5  0035de8fad557cfe0b187f24b954195f  "
      ]
     },
     "execution_count": 10,
     "metadata": {},
     "output_type": "execute_result"
    }
   ],
   "source": [
    "A1 = A1.reset_index(drop=True)\n",
    "A1.head(6)"
   ]
  },
  {
   "cell_type": "code",
   "execution_count": 11,
   "id": "5953c775",
   "metadata": {},
   "outputs": [
    {
     "data": {
      "text/html": [
       "<div>\n",
       "<style scoped>\n",
       "    .dataframe tbody tr th:only-of-type {\n",
       "        vertical-align: middle;\n",
       "    }\n",
       "\n",
       "    .dataframe tbody tr th {\n",
       "        vertical-align: top;\n",
       "    }\n",
       "\n",
       "    .dataframe thead th {\n",
       "        text-align: right;\n",
       "    }\n",
       "</style>\n",
       "<table border=\"1\" class=\"dataframe\">\n",
       "  <thead>\n",
       "    <tr style=\"text-align: right;\">\n",
       "      <th></th>\n",
       "      <th>0</th>\n",
       "    </tr>\n",
       "  </thead>\n",
       "  <tbody>\n",
       "    <tr>\n",
       "      <th>0</th>\n",
       "      <td>0 days 00:00:00.009930</td>\n",
       "    </tr>\n",
       "    <tr>\n",
       "      <th>1</th>\n",
       "      <td>0 days 00:00:00.005534</td>\n",
       "    </tr>\n",
       "    <tr>\n",
       "      <th>2</th>\n",
       "      <td>0 days 00:00:01.739684</td>\n",
       "    </tr>\n",
       "    <tr>\n",
       "      <th>3</th>\n",
       "      <td>0 days 00:00:00.011302</td>\n",
       "    </tr>\n",
       "    <tr>\n",
       "      <th>4</th>\n",
       "      <td>0 days 00:00:00.006826</td>\n",
       "    </tr>\n",
       "    <tr>\n",
       "      <th>5</th>\n",
       "      <td>0 days 00:00:02.008997</td>\n",
       "    </tr>\n",
       "  </tbody>\n",
       "</table>\n",
       "</div>"
      ],
      "text/plain": [
       "                       0\n",
       "0 0 days 00:00:00.009930\n",
       "1 0 days 00:00:00.005534\n",
       "2 0 days 00:00:01.739684\n",
       "3 0 days 00:00:00.011302\n",
       "4 0 days 00:00:00.006826\n",
       "5 0 days 00:00:02.008997"
      ]
     },
     "execution_count": 11,
     "metadata": {},
     "output_type": "execute_result"
    }
   ],
   "source": [
    "#выводим разницу между событиями\n",
    " \n",
    "rt = []\n",
    "y = 0\n",
    "for i in A1['request_time'][1:]:\n",
    "    step = i - A1['request_time'][y]\n",
    "    rt.append(step)\n",
    "    y = y + 1\n",
    "rt=pd.DataFrame(rt)    \n",
    "rt.head(6)"
   ]
  },
  {
   "cell_type": "code",
   "execution_count": 12,
   "id": "82c246e9",
   "metadata": {},
   "outputs": [
    {
     "data": {
      "text/plain": [
       "pandas.core.frame.DataFrame"
      ]
     },
     "execution_count": 12,
     "metadata": {},
     "output_type": "execute_result"
    }
   ],
   "source": [
    "nr = pd.DataFrame({'0 days 00:00:00.000000'}, index =[0]) #Добавляем пустую строку чтобы индексы совпадали\n",
    "rt = pd.concat([nr, rt]).reset_index(drop = True)\n",
    "type(rt)"
   ]
  },
  {
   "cell_type": "code",
   "execution_count": 13,
   "id": "49c13aa0",
   "metadata": {},
   "outputs": [
    {
     "data": {
      "text/html": [
       "<div>\n",
       "<style scoped>\n",
       "    .dataframe tbody tr th:only-of-type {\n",
       "        vertical-align: middle;\n",
       "    }\n",
       "\n",
       "    .dataframe tbody tr th {\n",
       "        vertical-align: top;\n",
       "    }\n",
       "\n",
       "    .dataframe thead th {\n",
       "        text-align: right;\n",
       "    }\n",
       "</style>\n",
       "<table border=\"1\" class=\"dataframe\">\n",
       "  <thead>\n",
       "    <tr style=\"text-align: right;\">\n",
       "      <th></th>\n",
       "      <th>0</th>\n",
       "      <th>timedelta</th>\n",
       "    </tr>\n",
       "  </thead>\n",
       "  <tbody>\n",
       "    <tr>\n",
       "      <th>0</th>\n",
       "      <td>0 days 00:00:00.000000</td>\n",
       "      <td>0 days 00:00:00</td>\n",
       "    </tr>\n",
       "    <tr>\n",
       "      <th>1</th>\n",
       "      <td>0 days 00:00:00.009930</td>\n",
       "      <td>0 days 00:00:00.009930</td>\n",
       "    </tr>\n",
       "    <tr>\n",
       "      <th>2</th>\n",
       "      <td>0 days 00:00:00.005534</td>\n",
       "      <td>0 days 00:00:00.005534</td>\n",
       "    </tr>\n",
       "    <tr>\n",
       "      <th>3</th>\n",
       "      <td>0 days 00:00:01.739684</td>\n",
       "      <td>0 days 00:00:01.739684</td>\n",
       "    </tr>\n",
       "    <tr>\n",
       "      <th>4</th>\n",
       "      <td>0 days 00:00:00.011302</td>\n",
       "      <td>0 days 00:00:00.011302</td>\n",
       "    </tr>\n",
       "    <tr>\n",
       "      <th>5</th>\n",
       "      <td>0 days 00:00:00.006826</td>\n",
       "      <td>0 days 00:00:00.006826</td>\n",
       "    </tr>\n",
       "  </tbody>\n",
       "</table>\n",
       "</div>"
      ],
      "text/plain": [
       "                        0              timedelta\n",
       "0  0 days 00:00:00.000000        0 days 00:00:00\n",
       "1  0 days 00:00:00.009930 0 days 00:00:00.009930\n",
       "2  0 days 00:00:00.005534 0 days 00:00:00.005534\n",
       "3  0 days 00:00:01.739684 0 days 00:00:01.739684\n",
       "4  0 days 00:00:00.011302 0 days 00:00:00.011302\n",
       "5  0 days 00:00:00.006826 0 days 00:00:00.006826"
      ]
     },
     "execution_count": 13,
     "metadata": {},
     "output_type": "execute_result"
    }
   ],
   "source": [
    "rt[\"timedelta\"] = pd.to_timedelta(rt[0])\n",
    "rt.head(6)"
   ]
  },
  {
   "cell_type": "code",
   "execution_count": 14,
   "id": "1bf75433",
   "metadata": {},
   "outputs": [],
   "source": [
    "rt=pd.DataFrame(rt['timedelta'])\n",
    "ans1 = pd.concat([A1, rt],axis=1)\n"
   ]
  },
  {
   "cell_type": "code",
   "execution_count": 15,
   "id": "633de2ee",
   "metadata": {},
   "outputs": [],
   "source": [
    "ans1.loc[ans1['event_id'] == 1, \"timedelta\"] = '0 days 00:00:00.000000' #заменяем все первые события на 0 \n"
   ]
  },
  {
   "cell_type": "code",
   "execution_count": 16,
   "id": "5d3c7ea9",
   "metadata": {},
   "outputs": [
    {
     "data": {
      "text/html": [
       "<div>\n",
       "<style scoped>\n",
       "    .dataframe tbody tr th:only-of-type {\n",
       "        vertical-align: middle;\n",
       "    }\n",
       "\n",
       "    .dataframe tbody tr th {\n",
       "        vertical-align: top;\n",
       "    }\n",
       "\n",
       "    .dataframe thead th {\n",
       "        text-align: right;\n",
       "    }\n",
       "</style>\n",
       "<table border=\"1\" class=\"dataframe\">\n",
       "  <thead>\n",
       "    <tr style=\"text-align: right;\">\n",
       "      <th></th>\n",
       "      <th>event_id</th>\n",
       "      <th>timedelta</th>\n",
       "    </tr>\n",
       "  </thead>\n",
       "  <tbody>\n",
       "    <tr>\n",
       "      <th>count</th>\n",
       "      <td>44731.000000</td>\n",
       "      <td>44731</td>\n",
       "    </tr>\n",
       "    <tr>\n",
       "      <th>mean</th>\n",
       "      <td>16.085757</td>\n",
       "      <td>0 days 00:00:00.451142354</td>\n",
       "    </tr>\n",
       "    <tr>\n",
       "      <th>std</th>\n",
       "      <td>8.919804</td>\n",
       "      <td>0 days 00:00:01.736237683</td>\n",
       "    </tr>\n",
       "    <tr>\n",
       "      <th>min</th>\n",
       "      <td>1.000000</td>\n",
       "      <td>0 days 00:00:00</td>\n",
       "    </tr>\n",
       "    <tr>\n",
       "      <th>25%</th>\n",
       "      <td>9.000000</td>\n",
       "      <td>0 days 00:00:00.005598</td>\n",
       "    </tr>\n",
       "    <tr>\n",
       "      <th>50%</th>\n",
       "      <td>16.000000</td>\n",
       "      <td>0 days 00:00:00.008131</td>\n",
       "    </tr>\n",
       "    <tr>\n",
       "      <th>75%</th>\n",
       "      <td>24.000000</td>\n",
       "      <td>0 days 00:00:00.059087500</td>\n",
       "    </tr>\n",
       "    <tr>\n",
       "      <th>max</th>\n",
       "      <td>34.000000</td>\n",
       "      <td>0 days 00:01:46.548210</td>\n",
       "    </tr>\n",
       "  </tbody>\n",
       "</table>\n",
       "</div>"
      ],
      "text/plain": [
       "           event_id                  timedelta\n",
       "count  44731.000000                      44731\n",
       "mean      16.085757  0 days 00:00:00.451142354\n",
       "std        8.919804  0 days 00:00:01.736237683\n",
       "min        1.000000            0 days 00:00:00\n",
       "25%        9.000000     0 days 00:00:00.005598\n",
       "50%       16.000000     0 days 00:00:00.008131\n",
       "75%       24.000000  0 days 00:00:00.059087500\n",
       "max       34.000000     0 days 00:01:46.548210"
      ]
     },
     "execution_count": 16,
     "metadata": {},
     "output_type": "execute_result"
    }
   ],
   "source": [
    "ans1.describe() #Узнаем максимум и выводим его"
   ]
  },
  {
   "cell_type": "code",
   "execution_count": 17,
   "id": "4f847993",
   "metadata": {},
   "outputs": [
    {
     "data": {
      "text/html": [
       "<div>\n",
       "<style scoped>\n",
       "    .dataframe tbody tr th:only-of-type {\n",
       "        vertical-align: middle;\n",
       "    }\n",
       "\n",
       "    .dataframe tbody tr th {\n",
       "        vertical-align: top;\n",
       "    }\n",
       "\n",
       "    .dataframe thead th {\n",
       "        text-align: right;\n",
       "    }\n",
       "</style>\n",
       "<table border=\"1\" class=\"dataframe\">\n",
       "  <thead>\n",
       "    <tr style=\"text-align: right;\">\n",
       "      <th></th>\n",
       "      <th>forecastMarker</th>\n",
       "      <th>request_time</th>\n",
       "      <th>event_id</th>\n",
       "      <th>sender</th>\n",
       "      <th>session_id</th>\n",
       "      <th>timedelta</th>\n",
       "    </tr>\n",
       "  </thead>\n",
       "  <tbody>\n",
       "    <tr>\n",
       "      <th>13623</th>\n",
       "      <td>weekly_report.care:count_of_jivo_SA</td>\n",
       "      <td>2022-09-14 05:22:40.308128</td>\n",
       "      <td>7</td>\n",
       "      <td>weekly_report.care</td>\n",
       "      <td>4dcab2af4573ced8251fb7433174ba15</td>\n",
       "      <td>0 days 00:01:46.548210</td>\n",
       "    </tr>\n",
       "  </tbody>\n",
       "</table>\n",
       "</div>"
      ],
      "text/plain": [
       "                            forecastMarker               request_time  \\\n",
       "13623  weekly_report.care:count_of_jivo_SA 2022-09-14 05:22:40.308128   \n",
       "\n",
       "       event_id              sender                        session_id  \\\n",
       "13623         7  weekly_report.care  4dcab2af4573ced8251fb7433174ba15   \n",
       "\n",
       "                   timedelta  \n",
       "13623 0 days 00:01:46.548210  "
      ]
     },
     "execution_count": 17,
     "metadata": {},
     "output_type": "execute_result"
    }
   ],
   "source": [
    "ans1.loc[ans1['timedelta'] == '0 days 00:01:46.548210']"
   ]
  },
  {
   "cell_type": "code",
   "execution_count": 18,
   "id": "5986c93a",
   "metadata": {},
   "outputs": [
    {
     "data": {
      "text/plain": [
       "forecastMarker    weekly_report.care:count_of_jivo_SA\n",
       "request_time               2022-09-14 05:20:53.759918\n",
       "event_id                                            6\n",
       "sender                             weekly_report.care\n",
       "session_id           4dcab2af4573ced8251fb7433174ba15\n",
       "timedelta                      0 days 00:00:00.005893\n",
       "Name: 13622, dtype: object"
      ]
     },
     "execution_count": 18,
     "metadata": {},
     "output_type": "execute_result"
    }
   ],
   "source": [
    "ans1.iloc[13622] #смотрим предыдущий шаг"
   ]
  },
  {
   "cell_type": "markdown",
   "id": "23fcd229",
   "metadata": {},
   "source": [
    "###  Самый большой шаг между событиями 6 и 7 за 14.09.2022, отклик более 1,5 часa"
   ]
  },
  {
   "cell_type": "markdown",
   "id": "08b0b931",
   "metadata": {},
   "source": [
    "###  Дадим ответ на второй вопрос. \n",
    "#### Интервал времени до наступления какого собатия показывает наибольшй разброс?\n",
    "##### Указать пару id & sender с наибольшим разбросом. Выдвинуть гипотезу с чем связано?"
   ]
  },
  {
   "cell_type": "code",
   "execution_count": 19,
   "id": "c440283d",
   "metadata": {},
   "outputs": [
    {
     "data": {
      "text/html": [
       "<div>\n",
       "<style scoped>\n",
       "    .dataframe tbody tr th:only-of-type {\n",
       "        vertical-align: middle;\n",
       "    }\n",
       "\n",
       "    .dataframe tbody tr th {\n",
       "        vertical-align: top;\n",
       "    }\n",
       "\n",
       "    .dataframe thead th {\n",
       "        text-align: right;\n",
       "    }\n",
       "</style>\n",
       "<table border=\"1\" class=\"dataframe\">\n",
       "  <thead>\n",
       "    <tr style=\"text-align: right;\">\n",
       "      <th></th>\n",
       "      <th>1</th>\n",
       "    </tr>\n",
       "  </thead>\n",
       "  <tbody>\n",
       "    <tr>\n",
       "      <th>5</th>\n",
       "      <td>0 days 00:01:45.080031</td>\n",
       "    </tr>\n",
       "  </tbody>\n",
       "</table>\n",
       "</div>"
      ],
      "text/plain": [
       "                       1\n",
       "5 0 days 00:01:45.080031"
      ]
     },
     "execution_count": 19,
     "metadata": {},
     "output_type": "execute_result"
    }
   ],
   "source": [
    "import array \n",
    "num = array.array('i',(range(2,35)))#Cоздадим массив значений от 2 до 34\n",
    "mm= [] \n",
    "for j in num: #цикл вычитает из максимального шага времени минимальный у каждого евента и записывает в новый дф\n",
    "    r = ans1.loc[ans1['event_id'] == j]['timedelta'] \n",
    "    mm.append([j,(max(r,default=0)-min(r,default=0))])\n",
    "mm  = pd.DataFrame(mm)\n",
    "mm[1] = mm[1].astype(\"timedelta64[ns]\")\n",
    "mmm = pd.DataFrame( mm[1].sort_values( ascending = False))\n",
    "mmm.head(1) #5 индекс равен 7 id_event\n"
   ]
  },
  {
   "cell_type": "code",
   "execution_count": 20,
   "id": "0c7d3153",
   "metadata": {},
   "outputs": [
    {
     "data": {
      "text/html": [
       "<div>\n",
       "<style scoped>\n",
       "    .dataframe tbody tr th:only-of-type {\n",
       "        vertical-align: middle;\n",
       "    }\n",
       "\n",
       "    .dataframe tbody tr th {\n",
       "        vertical-align: top;\n",
       "    }\n",
       "\n",
       "    .dataframe thead th {\n",
       "        text-align: right;\n",
       "    }\n",
       "</style>\n",
       "<table border=\"1\" class=\"dataframe\">\n",
       "  <thead>\n",
       "    <tr style=\"text-align: right;\">\n",
       "      <th></th>\n",
       "      <th>forecastMarker</th>\n",
       "      <th>request_time</th>\n",
       "      <th>event_id</th>\n",
       "      <th>sender</th>\n",
       "      <th>session_id</th>\n",
       "      <th>timedelta</th>\n",
       "    </tr>\n",
       "  </thead>\n",
       "  <tbody>\n",
       "    <tr>\n",
       "      <th>13623</th>\n",
       "      <td>weekly_report.care:count_of_jivo_SA</td>\n",
       "      <td>2022-09-14 05:22:40.308128</td>\n",
       "      <td>7</td>\n",
       "      <td>weekly_report.care</td>\n",
       "      <td>4dcab2af4573ced8251fb7433174ba15</td>\n",
       "      <td>0 days 00:01:46.548210</td>\n",
       "    </tr>\n",
       "  </tbody>\n",
       "</table>\n",
       "</div>"
      ],
      "text/plain": [
       "                            forecastMarker               request_time  \\\n",
       "13623  weekly_report.care:count_of_jivo_SA 2022-09-14 05:22:40.308128   \n",
       "\n",
       "       event_id              sender                        session_id  \\\n",
       "13623         7  weekly_report.care  4dcab2af4573ced8251fb7433174ba15   \n",
       "\n",
       "                   timedelta  \n",
       "13623 0 days 00:01:46.548210  "
      ]
     },
     "execution_count": 20,
     "metadata": {},
     "output_type": "execute_result"
    }
   ],
   "source": [
    "ans1.loc[ans1['event_id'] == 7].sort_values(by='timedelta', ascending = False).head(1) #Проверяем макс значение и мин"
   ]
  },
  {
   "cell_type": "code",
   "execution_count": 21,
   "id": "65dc1fec",
   "metadata": {},
   "outputs": [
    {
     "data": {
      "text/html": [
       "<div>\n",
       "<style scoped>\n",
       "    .dataframe tbody tr th:only-of-type {\n",
       "        vertical-align: middle;\n",
       "    }\n",
       "\n",
       "    .dataframe tbody tr th {\n",
       "        vertical-align: top;\n",
       "    }\n",
       "\n",
       "    .dataframe thead th {\n",
       "        text-align: right;\n",
       "    }\n",
       "</style>\n",
       "<table border=\"1\" class=\"dataframe\">\n",
       "  <thead>\n",
       "    <tr style=\"text-align: right;\">\n",
       "      <th></th>\n",
       "      <th>forecastMarker</th>\n",
       "      <th>request_time</th>\n",
       "      <th>event_id</th>\n",
       "      <th>sender</th>\n",
       "      <th>session_id</th>\n",
       "      <th>timedelta</th>\n",
       "    </tr>\n",
       "  </thead>\n",
       "  <tbody>\n",
       "    <tr>\n",
       "      <th>28680</th>\n",
       "      <td>weekly_report.care:happinessScore</td>\n",
       "      <td>2022-09-13 08:43:28.186466</td>\n",
       "      <td>7</td>\n",
       "      <td>test.weekly_report.care</td>\n",
       "      <td>a37b6de85794dc3005cd21faba6e1d59</td>\n",
       "      <td>0 days 00:00:01.468179</td>\n",
       "    </tr>\n",
       "  </tbody>\n",
       "</table>\n",
       "</div>"
      ],
      "text/plain": [
       "                          forecastMarker               request_time  event_id  \\\n",
       "28680  weekly_report.care:happinessScore 2022-09-13 08:43:28.186466         7   \n",
       "\n",
       "                        sender                        session_id  \\\n",
       "28680  test.weekly_report.care  a37b6de85794dc3005cd21faba6e1d59   \n",
       "\n",
       "                   timedelta  \n",
       "28680 0 days 00:00:01.468179  "
      ]
     },
     "execution_count": 21,
     "metadata": {},
     "output_type": "execute_result"
    }
   ],
   "source": [
    "ans1.loc[ans1['event_id'] == 7].sort_values(by='timedelta', ascending = True).head(1)"
   ]
  },
  {
   "cell_type": "code",
   "execution_count": 22,
   "id": "55ee3cee",
   "metadata": {},
   "outputs": [
    {
     "data": {
      "text/html": [
       "<div>\n",
       "<style scoped>\n",
       "    .dataframe tbody tr th:only-of-type {\n",
       "        vertical-align: middle;\n",
       "    }\n",
       "\n",
       "    .dataframe tbody tr th {\n",
       "        vertical-align: top;\n",
       "    }\n",
       "\n",
       "    .dataframe thead th {\n",
       "        text-align: right;\n",
       "    }\n",
       "</style>\n",
       "<table border=\"1\" class=\"dataframe\">\n",
       "  <thead>\n",
       "    <tr style=\"text-align: right;\">\n",
       "      <th></th>\n",
       "      <th>event_name</th>\n",
       "    </tr>\n",
       "    <tr>\n",
       "      <th>0</th>\n",
       "      <th></th>\n",
       "    </tr>\n",
       "  </thead>\n",
       "  <tbody>\n",
       "    <tr>\n",
       "      <th>7</th>\n",
       "      <td>Получили данные из BQ по полученному SQL запросу</td>\n",
       "    </tr>\n",
       "  </tbody>\n",
       "</table>\n",
       "</div>"
      ],
      "text/plain": [
       "                                         event_name\n",
       "0                                                  \n",
       "7  Получили данные из BQ по полученному SQL запросу"
      ]
     },
     "execution_count": 22,
     "metadata": {},
     "output_type": "execute_result"
    }
   ],
   "source": [
    "event[6:7]"
   ]
  },
  {
   "cell_type": "markdown",
   "id": "c18682fd",
   "metadata": {},
   "source": [
    "## Самый большой разброс по времени происходит у 7 события<br> от 1,5 секунды, до почти 2х минут:<br> Имя события: \"Получили данные из BQ по полученному SQL запросу\" \n",
    "### sender - weekly_report.care\n",
    "#### Связано это может быть с большими объемом данных полученных за неделю и необходимым временем на его обработку"
   ]
  },
  {
   "cell_type": "markdown",
   "id": "65dba260",
   "metadata": {},
   "source": [
    "_"
   ]
  },
  {
   "cell_type": "markdown",
   "id": "0d4101ab",
   "metadata": {},
   "source": [
    "###  Дадим ответ на третий вопрос. \n",
    "#### Какая задача прогнозирования выполняется дольше всего,название задачи?"
   ]
  },
  {
   "cell_type": "code",
   "execution_count": 23,
   "id": "d9f9fd7e",
   "metadata": {},
   "outputs": [
    {
     "data": {
      "text/html": [
       "<div>\n",
       "<style scoped>\n",
       "    .dataframe tbody tr th:only-of-type {\n",
       "        vertical-align: middle;\n",
       "    }\n",
       "\n",
       "    .dataframe tbody tr th {\n",
       "        vertical-align: top;\n",
       "    }\n",
       "\n",
       "    .dataframe thead th {\n",
       "        text-align: right;\n",
       "    }\n",
       "</style>\n",
       "<table border=\"1\" class=\"dataframe\">\n",
       "  <thead>\n",
       "    <tr style=\"text-align: right;\">\n",
       "      <th></th>\n",
       "      <th>forecastMarker</th>\n",
       "      <th>request_time</th>\n",
       "      <th>event_id</th>\n",
       "      <th>sender</th>\n",
       "      <th>session_id</th>\n",
       "      <th>timedelta</th>\n",
       "    </tr>\n",
       "  </thead>\n",
       "  <tbody>\n",
       "    <tr>\n",
       "      <th>0</th>\n",
       "      <td>weekly_report.SAAS:new_visitors:utm_medium:pre...</td>\n",
       "      <td>2022-09-12 17:11:29.821083</td>\n",
       "      <td>1</td>\n",
       "      <td>weekly_report.saas</td>\n",
       "      <td>0035de8fad557cfe0b187f24b954195f</td>\n",
       "      <td>0 days 00:00:00</td>\n",
       "    </tr>\n",
       "    <tr>\n",
       "      <th>1</th>\n",
       "      <td>weekly_report.SAAS:new_visitors:utm_medium:pre...</td>\n",
       "      <td>2022-09-12 17:11:29.831013</td>\n",
       "      <td>29</td>\n",
       "      <td>weekly_report.saas</td>\n",
       "      <td>0035de8fad557cfe0b187f24b954195f</td>\n",
       "      <td>0 days 00:00:00.009930</td>\n",
       "    </tr>\n",
       "    <tr>\n",
       "      <th>2</th>\n",
       "      <td>weekly_report.SAAS:new_visitors:utm_medium:pre...</td>\n",
       "      <td>2022-09-12 17:11:29.836547</td>\n",
       "      <td>2</td>\n",
       "      <td>weekly_report.saas</td>\n",
       "      <td>0035de8fad557cfe0b187f24b954195f</td>\n",
       "      <td>0 days 00:00:00.005534</td>\n",
       "    </tr>\n",
       "    <tr>\n",
       "      <th>3</th>\n",
       "      <td>weekly_report.SAAS:new_visitors:utm_medium:pre...</td>\n",
       "      <td>2022-09-12 17:11:31.576231</td>\n",
       "      <td>3</td>\n",
       "      <td>weekly_report.saas</td>\n",
       "      <td>0035de8fad557cfe0b187f24b954195f</td>\n",
       "      <td>0 days 00:00:01.739684</td>\n",
       "    </tr>\n",
       "    <tr>\n",
       "      <th>4</th>\n",
       "      <td>weekly_report.SAAS:new_visitors:utm_medium:pre...</td>\n",
       "      <td>2022-09-12 17:11:31.587533</td>\n",
       "      <td>5</td>\n",
       "      <td>weekly_report.saas</td>\n",
       "      <td>0035de8fad557cfe0b187f24b954195f</td>\n",
       "      <td>0 days 00:00:00.011302</td>\n",
       "    </tr>\n",
       "    <tr>\n",
       "      <th>5</th>\n",
       "      <td>weekly_report.SAAS:new_visitors:utm_medium:pre...</td>\n",
       "      <td>2022-09-12 17:11:31.594359</td>\n",
       "      <td>6</td>\n",
       "      <td>weekly_report.saas</td>\n",
       "      <td>0035de8fad557cfe0b187f24b954195f</td>\n",
       "      <td>0 days 00:00:00.006826</td>\n",
       "    </tr>\n",
       "  </tbody>\n",
       "</table>\n",
       "</div>"
      ],
      "text/plain": [
       "                                      forecastMarker  \\\n",
       "0  weekly_report.SAAS:new_visitors:utm_medium:pre...   \n",
       "1  weekly_report.SAAS:new_visitors:utm_medium:pre...   \n",
       "2  weekly_report.SAAS:new_visitors:utm_medium:pre...   \n",
       "3  weekly_report.SAAS:new_visitors:utm_medium:pre...   \n",
       "4  weekly_report.SAAS:new_visitors:utm_medium:pre...   \n",
       "5  weekly_report.SAAS:new_visitors:utm_medium:pre...   \n",
       "\n",
       "                request_time  event_id              sender  \\\n",
       "0 2022-09-12 17:11:29.821083         1  weekly_report.saas   \n",
       "1 2022-09-12 17:11:29.831013        29  weekly_report.saas   \n",
       "2 2022-09-12 17:11:29.836547         2  weekly_report.saas   \n",
       "3 2022-09-12 17:11:31.576231         3  weekly_report.saas   \n",
       "4 2022-09-12 17:11:31.587533         5  weekly_report.saas   \n",
       "5 2022-09-12 17:11:31.594359         6  weekly_report.saas   \n",
       "\n",
       "                         session_id              timedelta  \n",
       "0  0035de8fad557cfe0b187f24b954195f        0 days 00:00:00  \n",
       "1  0035de8fad557cfe0b187f24b954195f 0 days 00:00:00.009930  \n",
       "2  0035de8fad557cfe0b187f24b954195f 0 days 00:00:00.005534  \n",
       "3  0035de8fad557cfe0b187f24b954195f 0 days 00:00:01.739684  \n",
       "4  0035de8fad557cfe0b187f24b954195f 0 days 00:00:00.011302  \n",
       "5  0035de8fad557cfe0b187f24b954195f 0 days 00:00:00.006826  "
      ]
     },
     "execution_count": 23,
     "metadata": {},
     "output_type": "execute_result"
    }
   ],
   "source": [
    "sd = ans1.loc[ans1['event_id'] == 31]\n",
    "ans3 = ans1[ans1[\"session_id\"].isin(sd[\"session_id\"])]\n",
    "ans3.head(6)"
   ]
  },
  {
   "cell_type": "code",
   "execution_count": 24,
   "id": "076fcb9c",
   "metadata": {},
   "outputs": [
    {
     "data": {
      "text/html": [
       "<div>\n",
       "<style scoped>\n",
       "    .dataframe tbody tr th:only-of-type {\n",
       "        vertical-align: middle;\n",
       "    }\n",
       "\n",
       "    .dataframe tbody tr th {\n",
       "        vertical-align: top;\n",
       "    }\n",
       "\n",
       "    .dataframe thead th {\n",
       "        text-align: right;\n",
       "    }\n",
       "</style>\n",
       "<table border=\"1\" class=\"dataframe\">\n",
       "  <thead>\n",
       "    <tr style=\"text-align: right;\">\n",
       "      <th></th>\n",
       "      <th>timedelta</th>\n",
       "    </tr>\n",
       "    <tr>\n",
       "      <th>session_id</th>\n",
       "      <th></th>\n",
       "    </tr>\n",
       "  </thead>\n",
       "  <tbody>\n",
       "    <tr>\n",
       "      <th>4dcab2af4573ced8251fb7433174ba15</th>\n",
       "      <td>0 days 00:01:52.484473</td>\n",
       "    </tr>\n",
       "  </tbody>\n",
       "</table>\n",
       "</div>"
      ],
      "text/plain": [
       "                                              timedelta\n",
       "session_id                                             \n",
       "4dcab2af4573ced8251fb7433174ba15 0 days 00:01:52.484473"
      ]
     },
     "execution_count": 24,
     "metadata": {},
     "output_type": "execute_result"
    }
   ],
   "source": [
    "third_answer = pd.DataFrame(ans3.groupby('session_id')['timedelta']. sum ())\n",
    "ta =third_answer.sort_values('timedelta')#Объеденим данные по сесси и посчитаем суммарное время, выведем самое большое время\n",
    "ta.tail(1)"
   ]
  },
  {
   "cell_type": "code",
   "execution_count": 25,
   "id": "8ef34a61",
   "metadata": {},
   "outputs": [
    {
     "data": {
      "text/html": [
       "<div>\n",
       "<style scoped>\n",
       "    .dataframe tbody tr th:only-of-type {\n",
       "        vertical-align: middle;\n",
       "    }\n",
       "\n",
       "    .dataframe tbody tr th {\n",
       "        vertical-align: top;\n",
       "    }\n",
       "\n",
       "    .dataframe thead th {\n",
       "        text-align: right;\n",
       "    }\n",
       "</style>\n",
       "<table border=\"1\" class=\"dataframe\">\n",
       "  <thead>\n",
       "    <tr style=\"text-align: right;\">\n",
       "      <th></th>\n",
       "      <th>timedelta</th>\n",
       "    </tr>\n",
       "    <tr>\n",
       "      <th>session_id</th>\n",
       "      <th></th>\n",
       "    </tr>\n",
       "  </thead>\n",
       "  <tbody>\n",
       "    <tr>\n",
       "      <th>0035de8fad557cfe0b187f24b954195f</th>\n",
       "      <td>0 days 00:00:09.388732</td>\n",
       "    </tr>\n",
       "  </tbody>\n",
       "</table>\n",
       "</div>"
      ],
      "text/plain": [
       "                                              timedelta\n",
       "session_id                                             \n",
       "0035de8fad557cfe0b187f24b954195f 0 days 00:00:09.388732"
      ]
     },
     "execution_count": 25,
     "metadata": {},
     "output_type": "execute_result"
    }
   ],
   "source": [
    "third_answer.head(1)"
   ]
  },
  {
   "cell_type": "code",
   "execution_count": 26,
   "id": "15564a0d",
   "metadata": {},
   "outputs": [
    {
     "data": {
      "text/html": [
       "<div>\n",
       "<style scoped>\n",
       "    .dataframe tbody tr th:only-of-type {\n",
       "        vertical-align: middle;\n",
       "    }\n",
       "\n",
       "    .dataframe tbody tr th {\n",
       "        vertical-align: top;\n",
       "    }\n",
       "\n",
       "    .dataframe thead th {\n",
       "        text-align: right;\n",
       "    }\n",
       "</style>\n",
       "<table border=\"1\" class=\"dataframe\">\n",
       "  <thead>\n",
       "    <tr style=\"text-align: right;\">\n",
       "      <th></th>\n",
       "      <th>forecastMarker</th>\n",
       "      <th>request_time</th>\n",
       "      <th>event_id</th>\n",
       "      <th>sender</th>\n",
       "      <th>session_id</th>\n",
       "    </tr>\n",
       "  </thead>\n",
       "  <tbody>\n",
       "    <tr>\n",
       "      <th>39219</th>\n",
       "      <td>weekly_report.care:count_of_jivo_SA</td>\n",
       "      <td>2022-09-14 05:20:52.203702</td>\n",
       "      <td>1</td>\n",
       "      <td>weekly_report.care</td>\n",
       "      <td>4dcab2af4573ced8251fb7433174ba15</td>\n",
       "    </tr>\n",
       "  </tbody>\n",
       "</table>\n",
       "</div>"
      ],
      "text/plain": [
       "                            forecastMarker                request_time  \\\n",
       "39219  weekly_report.care:count_of_jivo_SA  2022-09-14 05:20:52.203702   \n",
       "\n",
       "       event_id              sender                        session_id  \n",
       "39219         1  weekly_report.care  4dcab2af4573ced8251fb7433174ba15  "
      ]
     },
     "execution_count": 26,
     "metadata": {},
     "output_type": "execute_result"
    }
   ],
   "source": [
    "(full.loc[full['session_id'] == '4dcab2af4573ced8251fb7433174ba15']).head(1)"
   ]
  },
  {
   "cell_type": "markdown",
   "id": "1ff7d213",
   "metadata": {},
   "source": [
    "# weekly_report.care:count_of_jivo_SA  - <br>данная задача выполняется дольше остальных"
   ]
  },
  {
   "cell_type": "markdown",
   "id": "1513e069",
   "metadata": {},
   "source": [
    "_"
   ]
  },
  {
   "cell_type": "markdown",
   "id": "19ade6ac",
   "metadata": {},
   "source": [
    "# Дадим ответ на пятый вопрос.\n",
    "## Перечислить forecastMarker которые не завершились успешно"
   ]
  },
  {
   "cell_type": "code",
   "execution_count": 27,
   "id": "6581830c",
   "metadata": {},
   "outputs": [],
   "source": [
    "sd5 = ans1.loc[ans1['event_id'] == 31]#Найдем евенты которые завершились удачно,удачно значит наступило 31 событие\n",
    "\n",
    "sd5 #1594 session_id uniq\n",
    "\n",
    "sdd5 = pd.DataFrame(full['session_id'].unique()) #1599 session_id uniq\n",
    "ans5 = sdd5[~sdd5[0].isin(sd5[\"session_id\"])]#Вычтем из всех сессий удачные "
   ]
  },
  {
   "cell_type": "code",
   "execution_count": 28,
   "id": "223b7160",
   "metadata": {},
   "outputs": [
    {
     "data": {
      "text/html": [
       "<div>\n",
       "<style scoped>\n",
       "    .dataframe tbody tr th:only-of-type {\n",
       "        vertical-align: middle;\n",
       "    }\n",
       "\n",
       "    .dataframe tbody tr th {\n",
       "        vertical-align: top;\n",
       "    }\n",
       "\n",
       "    .dataframe thead th {\n",
       "        text-align: right;\n",
       "    }\n",
       "</style>\n",
       "<table border=\"1\" class=\"dataframe\">\n",
       "  <thead>\n",
       "    <tr style=\"text-align: right;\">\n",
       "      <th></th>\n",
       "      <th>0</th>\n",
       "    </tr>\n",
       "  </thead>\n",
       "  <tbody>\n",
       "    <tr>\n",
       "      <th>0</th>\n",
       "      <td>None</td>\n",
       "    </tr>\n",
       "    <tr>\n",
       "      <th>1</th>\n",
       "      <td>weekly_report.SAAS:new_visitors</td>\n",
       "    </tr>\n",
       "    <tr>\n",
       "      <th>2</th>\n",
       "      <td>SaaS/RUS/turnover/targetMailRu</td>\n",
       "    </tr>\n",
       "    <tr>\n",
       "      <th>3</th>\n",
       "      <td>weekly_report.SAAS:turnover</td>\n",
       "    </tr>\n",
       "    <tr>\n",
       "      <th>4</th>\n",
       "      <td>weekly_report.SAAS:new_visitors:utm_medium:org...</td>\n",
       "    </tr>\n",
       "  </tbody>\n",
       "</table>\n",
       "</div>"
      ],
      "text/plain": [
       "                                                   0\n",
       "0                                               None\n",
       "1                    weekly_report.SAAS:new_visitors\n",
       "2                     SaaS/RUS/turnover/targetMailRu\n",
       "3                        weekly_report.SAAS:turnover\n",
       "4  weekly_report.SAAS:new_visitors:utm_medium:org..."
      ]
     },
     "execution_count": 28,
     "metadata": {},
     "output_type": "execute_result"
    }
   ],
   "source": [
    "spsk = []\n",
    "for i in ans5[0]:\n",
    "    n = full.loc[full['session_id'] == i]['forecastMarker']\n",
    "    spsk.append(n.unique())\n",
    "spsk1 = pd.DataFrame(spsk)\n",
    "spsk1 #Выведем список неудачно завершившихся сессий\n"
   ]
  },
  {
   "cell_type": "markdown",
   "id": "e430829b",
   "metadata": {},
   "source": [
    "## Выше предоставлен список forecastMarker которые не завершились успешно\n",
    "### Из 1599 всего 5 не удавшихся"
   ]
  },
  {
   "cell_type": "code",
   "execution_count": 29,
   "id": "a95c728c",
   "metadata": {},
   "outputs": [
    {
     "name": "stdout",
     "output_type": "stream",
     "text": [
      "соединение закрыто\n"
     ]
    }
   ],
   "source": [
    " # Be sure to close the connection\n",
    "con.close()\n",
    "print(\"соединение закрыто\")"
   ]
  },
  {
   "cell_type": "markdown",
   "id": "f76b2a0b",
   "metadata": {},
   "source": [
    "### Задание выполнил: Федоренко Вячеслав \n",
    "##### +79536416424"
   ]
  },
  {
   "cell_type": "code",
   "execution_count": null,
   "id": "511c3e17",
   "metadata": {},
   "outputs": [],
   "source": []
  }
 ],
 "metadata": {
  "kernelspec": {
   "display_name": "Python 3 (ipykernel)",
   "language": "python",
   "name": "python3"
  },
  "language_info": {
   "codemirror_mode": {
    "name": "ipython",
    "version": 3
   },
   "file_extension": ".py",
   "mimetype": "text/x-python",
   "name": "python",
   "nbconvert_exporter": "python",
   "pygments_lexer": "ipython3",
   "version": "3.10.9"
  }
 },
 "nbformat": 4,
 "nbformat_minor": 5
}
